{
 "cells": [
  {
   "cell_type": "markdown",
   "metadata": {
    "id": "P1mggT9kvHdq"
   },
   "source": [
    "# **Part 2 | Multi-Factor Analysis**\n",
    "*An Analysis of Fama and French 5 Faktor Model with Momentum (and ESG Factor) on several ETFs on a 10-year time horizon*"
   ]
  },
  {
   "cell_type": "code",
   "execution_count": 1,
   "metadata": {
    "id": "2nk1fvNdvHdv"
   },
   "outputs": [],
   "source": [
    "#General Imports\n",
    "import pandas as pd\n",
    "import numpy as np\n",
    "import os\n",
    "import warnings\n",
    "\n",
    "#Plotting\n",
    "from matplotlib.ticker import FuncFormatter, PercentFormatter\n",
    "import matplotlib.dates as mdates\n",
    "from matplotlib.dates import YearLocator, DateFormatter\n",
    "import matplotlib.colors as mcolors\n",
    "import matplotlib.pyplot as plt\n",
    "import seaborn as sns\n",
    "\n",
    "#Data Import\n",
    "import yfinance as yf\n",
    "import mplfinance as mpf\n",
    "\n",
    "#Working with Data\n",
    "from functools import reduce #Get Monthly Data\n",
    "from datetime import datetime, timedelta\n",
    "import datetime as dt\n",
    "from pandas.tseries.offsets import MonthEnd\n",
    "\n",
    "#Estimation\n",
    "import statsmodels.api as sm #Regression\n",
    "from scipy import stats #Correlation\n",
    "from scipy.stats import kendalltau, spearmanr #Kendal Tau\n",
    "\n",
    "#Other Stuff\n",
    "from IPython.display import display, Markdown  # For Markdown rendering\n",
    "\n",
    "warnings.simplefilter(action='ignore', category=FutureWarning)\n",
    "pd.options.mode.chained_assignment = None"
   ]
  },
  {
   "cell_type": "markdown",
   "metadata": {
    "id": "sIT3mq1DvHd0"
   },
   "source": [
    "The portfolios selected for factor analysis encompass a diverse range of investment strategies and market segments:\n",
    "\n",
    "ESG-Focused Portfolios\n",
    "\n",
    "1. Best ESG score portfolio\n",
    "2. Worst ESG score portfolio\n",
    "\n",
    "Global Market Portfolios\n",
    "\n",
    "3. VT: Vanguard Total World Stock ETF\n",
    "4. VEU: Vanguard FTSE All-World ex-US ETF\n",
    "\n",
    "U.S. Market Segmented Portfolios\n",
    "\n",
    "5. IVV: iShares Core S&P 500 ETF\n",
    "6. IJH: iShares Core S&P Mid-Cap ETF\n",
    "7. IJR: iShares Core S&P Small-Cap ETF"
   ]
  },
  {
   "cell_type": "markdown",
   "metadata": {
    "id": "W34lYWZZvHdy"
   },
   "source": [
    "## **1. Data Collection**"
   ]
  },
  {
   "cell_type": "markdown",
   "metadata": {
    "id": "Xpnt4Zi2vHdz"
   },
   "source": [
    "### **1.1 Import ESG Data**"
   ]
  },
  {
   "cell_type": "code",
   "execution_count": 2,
   "metadata": {
    "id": "9SsHrTt6vHdz"
   },
   "outputs": [],
   "source": [
    "esg_data = pd.read_csv('__data/return_history.csv', delimiter = \",\") #Importing ESG Factor Data"
   ]
  },
  {
   "cell_type": "code",
   "execution_count": 3,
   "metadata": {
    "id": "9K5O4WoILomm"
   },
   "outputs": [],
   "source": [
    "esg_data_subsetted = esg_data.rename(columns={\"Average_Return_High\": \"return_high_esg\", \"Average_Return_Low\": \"return_low_esg\"})\n",
    "esg_data_subsetted = esg_data_subsetted[[\"Date\", \"return_high_esg\", \"return_low_esg\", \"ESG_Factor\"]]\n",
    "\n",
    "esg_data_subsetted[\"Date\"] = pd.to_datetime(esg_data[\"Date\"])\n",
    "esg_data_subsetted['Date'] = esg_data_subsetted[\"Date\"].dt.date"
   ]
  },
  {
   "cell_type": "code",
   "execution_count": 4,
   "metadata": {
    "colab": {
     "base_uri": "https://localhost:8080/",
     "height": 206
    },
    "id": "EnRLh0FSyfY2",
    "outputId": "55bf95b8-23cb-4c6a-a33f-d64b3ec266a3"
   },
   "outputs": [
    {
     "data": {
      "text/html": [
       "<div>\n",
       "<style scoped>\n",
       "    .dataframe tbody tr th:only-of-type {\n",
       "        vertical-align: middle;\n",
       "    }\n",
       "\n",
       "    .dataframe tbody tr th {\n",
       "        vertical-align: top;\n",
       "    }\n",
       "\n",
       "    .dataframe thead th {\n",
       "        text-align: right;\n",
       "    }\n",
       "</style>\n",
       "<table border=\"1\" class=\"dataframe\">\n",
       "  <thead>\n",
       "    <tr style=\"text-align: right;\">\n",
       "      <th></th>\n",
       "      <th>Date</th>\n",
       "      <th>Average_Return_High</th>\n",
       "      <th>Count_High</th>\n",
       "      <th>Average_Return_Low</th>\n",
       "      <th>Count_Low</th>\n",
       "      <th>ESG_Factor</th>\n",
       "    </tr>\n",
       "  </thead>\n",
       "  <tbody>\n",
       "    <tr>\n",
       "      <th>263</th>\n",
       "      <td>2023-12-31</td>\n",
       "      <td>0.083022</td>\n",
       "      <td>373</td>\n",
       "      <td>0.115144</td>\n",
       "      <td>373</td>\n",
       "      <td>0.032122</td>\n",
       "    </tr>\n",
       "    <tr>\n",
       "      <th>264</th>\n",
       "      <td>2024-01-31</td>\n",
       "      <td>-0.018097</td>\n",
       "      <td>373</td>\n",
       "      <td>-0.037933</td>\n",
       "      <td>373</td>\n",
       "      <td>-0.019836</td>\n",
       "    </tr>\n",
       "    <tr>\n",
       "      <th>265</th>\n",
       "      <td>2024-02-29</td>\n",
       "      <td>0.031722</td>\n",
       "      <td>373</td>\n",
       "      <td>0.045612</td>\n",
       "      <td>373</td>\n",
       "      <td>0.013890</td>\n",
       "    </tr>\n",
       "    <tr>\n",
       "      <th>266</th>\n",
       "      <td>2024-03-31</td>\n",
       "      <td>0.046259</td>\n",
       "      <td>373</td>\n",
       "      <td>0.027716</td>\n",
       "      <td>373</td>\n",
       "      <td>-0.018543</td>\n",
       "    </tr>\n",
       "    <tr>\n",
       "      <th>267</th>\n",
       "      <td>2024-04-30</td>\n",
       "      <td>-0.047620</td>\n",
       "      <td>373</td>\n",
       "      <td>-0.065576</td>\n",
       "      <td>373</td>\n",
       "      <td>-0.017956</td>\n",
       "    </tr>\n",
       "  </tbody>\n",
       "</table>\n",
       "</div>"
      ],
      "text/plain": [
       "           Date  Average_Return_High  Count_High  Average_Return_Low  \\\n",
       "263  2023-12-31             0.083022         373            0.115144   \n",
       "264  2024-01-31            -0.018097         373           -0.037933   \n",
       "265  2024-02-29             0.031722         373            0.045612   \n",
       "266  2024-03-31             0.046259         373            0.027716   \n",
       "267  2024-04-30            -0.047620         373           -0.065576   \n",
       "\n",
       "     Count_Low  ESG_Factor  \n",
       "263        373    0.032122  \n",
       "264        373   -0.019836  \n",
       "265        373    0.013890  \n",
       "266        373   -0.018543  \n",
       "267        373   -0.017956  "
      ]
     },
     "execution_count": 4,
     "metadata": {},
     "output_type": "execute_result"
    }
   ],
   "source": [
    "esg_data.tail()"
   ]
  },
  {
   "cell_type": "markdown",
   "metadata": {
    "id": "52e1_kH6vHd5"
   },
   "source": [
    "### **1.2 Importing Global Market & U.S. Market Return Data**"
   ]
  },
  {
   "cell_type": "markdown",
   "metadata": {
    "id": "SLRf1RlrvHd6"
   },
   "source": [
    "**Global Market Portfolios**"
   ]
  },
  {
   "cell_type": "code",
   "execution_count": 5,
   "metadata": {
    "id": "ox_tSkjCvHd6"
   },
   "outputs": [],
   "source": [
    "def preprocess(asset_name, start_date=\"2009-11-01\", end_date=\"2024-11-01\"):\n",
    "    # Create 'data' folder if it doesn't exist\n",
    "    data_folder = '__data'\n",
    "    os.makedirs(data_folder, exist_ok=True)\n",
    "\n",
    "    # Define the CSV filename\n",
    "    csv_filename = os.path.join(data_folder, f'{asset_name.lower()}_data.csv')\n",
    "\n",
    "    # Check if the CSV file already exists\n",
    "    if not os.path.exists(csv_filename):\n",
    "        # Download the data\n",
    "        asset_data = yf.download(asset_name, start=start_date, end=end_date)\n",
    "        # Reset the index to make the date a column\n",
    "        asset_reset = asset_data.reset_index()\n",
    "        # Rename the 'Date' column (which is now the first column)\n",
    "        asset_reset = asset_reset.rename(columns={'Date': 'Date'})\n",
    "        # Save to CSV file, skipping the first row (header) and without including the index\n",
    "        asset_reset.to_csv(csv_filename, index = False, header = False)\n",
    "\n",
    "    # Read the CSV file\n",
    "    df = pd.read_csv(csv_filename, names=['Date', 'Open', 'High', 'Low', 'Close', 'Adj Close', 'Volume'])\n",
    "\n",
    "    df['Date'] = pd.to_datetime(df['Date']) # Convert the 'Date' column to datetime and set it as the index\n",
    "    df.set_index('Date', inplace = True) #Set Date as Index\n",
    "    df = df.sort_index() # Sort the index in ascending order\n",
    "\n",
    "    df_monthly = df['Adj Close'].resample('M').last() #Get monthly Data\n",
    "\n",
    "    df_monthly = df_monthly.reset_index()[[\"Date\", \"Adj Close\"]]\n",
    "    df_monthly['Date'] = df_monthly[\"Date\"].dt.date #Remove time zone information from Date (Not needed)\n",
    "\n",
    "    # Calculate returns and add a 'Return' column\n",
    "    df_monthly[\"Return\"] = df_monthly[\"Adj Close\"].pct_change()\n",
    "\n",
    "    # Remove the first row (which will have NaN for return)\n",
    "    df_monthly = df_monthly.iloc[1:]\n",
    "\n",
    "    # Keep only 'Date' and 'Return' columns as those are the only ones needed\n",
    "    df_monthly = df_monthly[['Date', 'Return']]\n",
    "\n",
    "    return df_monthly"
   ]
  },
  {
   "cell_type": "code",
   "execution_count": 6,
   "metadata": {
    "colab": {
     "base_uri": "https://localhost:8080/"
    },
    "id": "yLPCy2DQvHd7",
    "outputId": "d4525c14-cc9a-4619-b4bc-248f8d8517a2"
   },
   "outputs": [],
   "source": [
    "# Process each dataset\n",
    "vt = preprocess(\"VT\")\n",
    "veu = preprocess(\"VEU\")"
   ]
  },
  {
   "cell_type": "code",
   "execution_count": 7,
   "metadata": {
    "colab": {
     "base_uri": "https://localhost:8080/",
     "height": 363
    },
    "id": "tuJdH1mUjFaB",
    "outputId": "0eb7383b-8816-4222-892e-826a13ab170d"
   },
   "outputs": [
    {
     "data": {
      "text/html": [
       "<div>\n",
       "<style scoped>\n",
       "    .dataframe tbody tr th:only-of-type {\n",
       "        vertical-align: middle;\n",
       "    }\n",
       "\n",
       "    .dataframe tbody tr th {\n",
       "        vertical-align: top;\n",
       "    }\n",
       "\n",
       "    .dataframe thead th {\n",
       "        text-align: right;\n",
       "    }\n",
       "</style>\n",
       "<table border=\"1\" class=\"dataframe\">\n",
       "  <thead>\n",
       "    <tr style=\"text-align: right;\">\n",
       "      <th></th>\n",
       "      <th>Date</th>\n",
       "      <th>Return</th>\n",
       "    </tr>\n",
       "  </thead>\n",
       "  <tbody>\n",
       "    <tr>\n",
       "      <th>1</th>\n",
       "      <td>2014-12-31</td>\n",
       "      <td>-0.019819</td>\n",
       "    </tr>\n",
       "    <tr>\n",
       "      <th>2</th>\n",
       "      <td>2015-01-31</td>\n",
       "      <td>-0.016300</td>\n",
       "    </tr>\n",
       "    <tr>\n",
       "      <th>3</th>\n",
       "      <td>2015-02-28</td>\n",
       "      <td>0.059520</td>\n",
       "    </tr>\n",
       "    <tr>\n",
       "      <th>4</th>\n",
       "      <td>2015-03-31</td>\n",
       "      <td>-0.012138</td>\n",
       "    </tr>\n",
       "    <tr>\n",
       "      <th>5</th>\n",
       "      <td>2015-04-30</td>\n",
       "      <td>0.025491</td>\n",
       "    </tr>\n",
       "    <tr>\n",
       "      <th>6</th>\n",
       "      <td>2015-05-31</td>\n",
       "      <td>0.003325</td>\n",
       "    </tr>\n",
       "    <tr>\n",
       "      <th>7</th>\n",
       "      <td>2015-06-30</td>\n",
       "      <td>-0.022203</td>\n",
       "    </tr>\n",
       "    <tr>\n",
       "      <th>8</th>\n",
       "      <td>2015-07-31</td>\n",
       "      <td>0.005039</td>\n",
       "    </tr>\n",
       "    <tr>\n",
       "      <th>9</th>\n",
       "      <td>2015-08-31</td>\n",
       "      <td>-0.066311</td>\n",
       "    </tr>\n",
       "    <tr>\n",
       "      <th>10</th>\n",
       "      <td>2015-09-30</td>\n",
       "      <td>-0.037109</td>\n",
       "    </tr>\n",
       "  </tbody>\n",
       "</table>\n",
       "</div>"
      ],
      "text/plain": [
       "          Date    Return\n",
       "1   2014-12-31 -0.019819\n",
       "2   2015-01-31 -0.016300\n",
       "3   2015-02-28  0.059520\n",
       "4   2015-03-31 -0.012138\n",
       "5   2015-04-30  0.025491\n",
       "6   2015-05-31  0.003325\n",
       "7   2015-06-30 -0.022203\n",
       "8   2015-07-31  0.005039\n",
       "9   2015-08-31 -0.066311\n",
       "10  2015-09-30 -0.037109"
      ]
     },
     "execution_count": 7,
     "metadata": {},
     "output_type": "execute_result"
    }
   ],
   "source": [
    "vt.head(10)"
   ]
  },
  {
   "cell_type": "markdown",
   "metadata": {
    "id": "wgWgkzStvHd7"
   },
   "source": [
    "**U.S. Market Portfolios**"
   ]
  },
  {
   "cell_type": "code",
   "execution_count": 8,
   "metadata": {
    "colab": {
     "base_uri": "https://localhost:8080/"
    },
    "id": "7qcHoaDpvHd7",
    "outputId": "239c384d-8ebd-44d7-880c-31ac51e18611"
   },
   "outputs": [],
   "source": [
    "# Process each dataset\n",
    "ivv = preprocess(\"IVV\")\n",
    "ijh = preprocess(\"IJH\")\n",
    "ijr = preprocess(\"IJR\")"
   ]
  },
  {
   "cell_type": "markdown",
   "metadata": {
    "id": "pGLj_GDhLwO4"
   },
   "source": [
    "**Renaming Columns**"
   ]
  },
  {
   "cell_type": "code",
   "execution_count": 9,
   "metadata": {
    "id": "sU13Gm-D5SP1"
   },
   "outputs": [],
   "source": [
    "vt = vt.rename(columns={\"Return\": \"return_vt\"})\n",
    "veu = veu.rename(columns={\"Return\": \"return_veu\"})\n",
    "ivv = ivv.rename(columns={\"Return\": \"return_ivv\"})\n",
    "ijh = ijh.rename(columns={\"Return\": \"return_ijh\"})\n",
    "ijr = ijr.rename(columns={\"Return\": \"return_ijr\"})"
   ]
  },
  {
   "cell_type": "code",
   "execution_count": 10,
   "metadata": {
    "colab": {
     "base_uri": "https://localhost:8080/",
     "height": 206
    },
    "id": "jlhW5gBQM2oO",
    "outputId": "13291a13-2a40-4dc1-ade6-df773258f529"
   },
   "outputs": [
    {
     "data": {
      "text/html": [
       "<div>\n",
       "<style scoped>\n",
       "    .dataframe tbody tr th:only-of-type {\n",
       "        vertical-align: middle;\n",
       "    }\n",
       "\n",
       "    .dataframe tbody tr th {\n",
       "        vertical-align: top;\n",
       "    }\n",
       "\n",
       "    .dataframe thead th {\n",
       "        text-align: right;\n",
       "    }\n",
       "</style>\n",
       "<table border=\"1\" class=\"dataframe\">\n",
       "  <thead>\n",
       "    <tr style=\"text-align: right;\">\n",
       "      <th></th>\n",
       "      <th>Date</th>\n",
       "      <th>return_vt</th>\n",
       "    </tr>\n",
       "  </thead>\n",
       "  <tbody>\n",
       "    <tr>\n",
       "      <th>1</th>\n",
       "      <td>2014-12-31</td>\n",
       "      <td>-0.019819</td>\n",
       "    </tr>\n",
       "    <tr>\n",
       "      <th>2</th>\n",
       "      <td>2015-01-31</td>\n",
       "      <td>-0.016300</td>\n",
       "    </tr>\n",
       "    <tr>\n",
       "      <th>3</th>\n",
       "      <td>2015-02-28</td>\n",
       "      <td>0.059520</td>\n",
       "    </tr>\n",
       "    <tr>\n",
       "      <th>4</th>\n",
       "      <td>2015-03-31</td>\n",
       "      <td>-0.012138</td>\n",
       "    </tr>\n",
       "    <tr>\n",
       "      <th>5</th>\n",
       "      <td>2015-04-30</td>\n",
       "      <td>0.025491</td>\n",
       "    </tr>\n",
       "  </tbody>\n",
       "</table>\n",
       "</div>"
      ],
      "text/plain": [
       "         Date  return_vt\n",
       "1  2014-12-31  -0.019819\n",
       "2  2015-01-31  -0.016300\n",
       "3  2015-02-28   0.059520\n",
       "4  2015-03-31  -0.012138\n",
       "5  2015-04-30   0.025491"
      ]
     },
     "execution_count": 10,
     "metadata": {},
     "output_type": "execute_result"
    }
   ],
   "source": [
    "vt.head()"
   ]
  },
  {
   "cell_type": "markdown",
   "metadata": {
    "id": "Hk7gMqddJqsu"
   },
   "source": [
    "### **1.3 Importing Momentum Factor Data**"
   ]
  },
  {
   "cell_type": "code",
   "execution_count": 11,
   "metadata": {
    "id": "nDj4rOi4NNIN"
   },
   "outputs": [],
   "source": [
    "def prepMomentumData(data, suffix):\n",
    "\n",
    "  data_adj = data.copy()\n",
    "\n",
    "  data_adj[\"date\"] = pd.to_datetime(data_adj[\"date\"], errors='coerce')\n",
    "  data_adj[\"date\"] = data_adj[\"date\"].dt.date\n",
    "\n",
    "  data_adj = data_adj.rename(columns={'date': 'Date'})\n",
    "  data_adj = data_adj.rename(columns={'ret': f\"Mom_{suffix}_Factor\"})\n",
    "\n",
    "  data_adj = data_adj[[\"Date\", f\"Mom_{suffix}_Factor\"]]\n",
    "\n",
    "  return data_adj"
   ]
  },
  {
   "cell_type": "code",
   "execution_count": 12,
   "metadata": {
    "id": "V9gpv1nQJ3u_"
   },
   "outputs": [],
   "source": [
    "mom_12_1 = pd.read_csv('__data/[usa]_[resff3_12_1]_[monthly]_[ew].csv', delimiter = \",\") #Importing ESG Factor Data\n",
    "mom_6_1 = pd.read_csv('__data/[usa]_[resff3_6_1]_[monthly]_[ew].csv', delimiter = \",\") #Importing ESG Factor Data"
   ]
  },
  {
   "cell_type": "code",
   "execution_count": 13,
   "metadata": {
    "id": "AnPLX_JqKEhV"
   },
   "outputs": [],
   "source": [
    "mom_6_1 = prepMomentumData(mom_6_1, \"6_1\")\n",
    "mom_12_1 = prepMomentumData(mom_12_1, \"12_1\")"
   ]
  },
  {
   "cell_type": "code",
   "execution_count": 14,
   "metadata": {
    "colab": {
     "base_uri": "https://localhost:8080/",
     "height": 206
    },
    "id": "udfcz4IjMdLB",
    "outputId": "465db490-817f-476b-d10c-0e43a5e6edff"
   },
   "outputs": [
    {
     "data": {
      "text/html": [
       "<div>\n",
       "<style scoped>\n",
       "    .dataframe tbody tr th:only-of-type {\n",
       "        vertical-align: middle;\n",
       "    }\n",
       "\n",
       "    .dataframe tbody tr th {\n",
       "        vertical-align: top;\n",
       "    }\n",
       "\n",
       "    .dataframe thead th {\n",
       "        text-align: right;\n",
       "    }\n",
       "</style>\n",
       "<table border=\"1\" class=\"dataframe\">\n",
       "  <thead>\n",
       "    <tr style=\"text-align: right;\">\n",
       "      <th></th>\n",
       "      <th>Date</th>\n",
       "      <th>Mom_6_1_Factor</th>\n",
       "    </tr>\n",
       "  </thead>\n",
       "  <tbody>\n",
       "    <tr>\n",
       "      <th>843</th>\n",
       "      <td>2023-08-31</td>\n",
       "      <td>0.016517</td>\n",
       "    </tr>\n",
       "    <tr>\n",
       "      <th>844</th>\n",
       "      <td>2023-09-30</td>\n",
       "      <td>0.000538</td>\n",
       "    </tr>\n",
       "    <tr>\n",
       "      <th>845</th>\n",
       "      <td>2023-10-31</td>\n",
       "      <td>-0.014745</td>\n",
       "    </tr>\n",
       "    <tr>\n",
       "      <th>846</th>\n",
       "      <td>2023-11-30</td>\n",
       "      <td>0.027283</td>\n",
       "    </tr>\n",
       "    <tr>\n",
       "      <th>847</th>\n",
       "      <td>2023-12-31</td>\n",
       "      <td>-0.016531</td>\n",
       "    </tr>\n",
       "  </tbody>\n",
       "</table>\n",
       "</div>"
      ],
      "text/plain": [
       "           Date  Mom_6_1_Factor\n",
       "843  2023-08-31        0.016517\n",
       "844  2023-09-30        0.000538\n",
       "845  2023-10-31       -0.014745\n",
       "846  2023-11-30        0.027283\n",
       "847  2023-12-31       -0.016531"
      ]
     },
     "execution_count": 14,
     "metadata": {},
     "output_type": "execute_result"
    }
   ],
   "source": [
    "mom_6_1.tail()"
   ]
  },
  {
   "cell_type": "markdown",
   "metadata": {
    "id": "MRzsblpdvHeC"
   },
   "source": [
    "### **1.4. Importing Fama and French Data**"
   ]
  },
  {
   "cell_type": "code",
   "execution_count": 15,
   "metadata": {
    "id": "jACEmZF7ji8R"
   },
   "outputs": [],
   "source": [
    "ff5 = pd.read_csv(\"__data/F-F_Research_Data_5_Factors_2x3.csv\", skiprows=2, index_col=0)\n"
   ]
  },
  {
   "cell_type": "code",
   "execution_count": 16,
   "metadata": {
    "colab": {
     "base_uri": "https://localhost:8080/",
     "height": 206
    },
    "id": "hIZBeV5XvHeD",
    "outputId": "f7db2699-1a79-4652-f6e6-8420bd7d5d4c"
   },
   "outputs": [
    {
     "data": {
      "text/html": [
       "<div>\n",
       "<style scoped>\n",
       "    .dataframe tbody tr th:only-of-type {\n",
       "        vertical-align: middle;\n",
       "    }\n",
       "\n",
       "    .dataframe tbody tr th {\n",
       "        vertical-align: top;\n",
       "    }\n",
       "\n",
       "    .dataframe thead th {\n",
       "        text-align: right;\n",
       "    }\n",
       "</style>\n",
       "<table border=\"1\" class=\"dataframe\">\n",
       "  <thead>\n",
       "    <tr style=\"text-align: right;\">\n",
       "      <th></th>\n",
       "      <th>Date</th>\n",
       "      <th>Mkt-RF</th>\n",
       "      <th>SMB</th>\n",
       "      <th>HML</th>\n",
       "      <th>RMW</th>\n",
       "      <th>CMA</th>\n",
       "      <th>RF</th>\n",
       "    </tr>\n",
       "  </thead>\n",
       "  <tbody>\n",
       "    <tr>\n",
       "      <th>0</th>\n",
       "      <td>2014-10-31</td>\n",
       "      <td>0.0252</td>\n",
       "      <td>0.0373</td>\n",
       "      <td>-0.0180</td>\n",
       "      <td>-0.0056</td>\n",
       "      <td>-0.0010</td>\n",
       "      <td>0.0</td>\n",
       "    </tr>\n",
       "    <tr>\n",
       "      <th>1</th>\n",
       "      <td>2014-11-30</td>\n",
       "      <td>0.0255</td>\n",
       "      <td>-0.0228</td>\n",
       "      <td>-0.0310</td>\n",
       "      <td>0.0150</td>\n",
       "      <td>0.0026</td>\n",
       "      <td>0.0</td>\n",
       "    </tr>\n",
       "    <tr>\n",
       "      <th>2</th>\n",
       "      <td>2014-12-31</td>\n",
       "      <td>-0.0006</td>\n",
       "      <td>0.0286</td>\n",
       "      <td>0.0227</td>\n",
       "      <td>-0.0122</td>\n",
       "      <td>0.0096</td>\n",
       "      <td>0.0</td>\n",
       "    </tr>\n",
       "    <tr>\n",
       "      <th>3</th>\n",
       "      <td>2015-01-31</td>\n",
       "      <td>-0.0311</td>\n",
       "      <td>-0.0092</td>\n",
       "      <td>-0.0359</td>\n",
       "      <td>0.0161</td>\n",
       "      <td>-0.0165</td>\n",
       "      <td>0.0</td>\n",
       "    </tr>\n",
       "    <tr>\n",
       "      <th>4</th>\n",
       "      <td>2015-02-28</td>\n",
       "      <td>0.0613</td>\n",
       "      <td>0.0032</td>\n",
       "      <td>-0.0186</td>\n",
       "      <td>-0.0112</td>\n",
       "      <td>-0.0182</td>\n",
       "      <td>0.0</td>\n",
       "    </tr>\n",
       "  </tbody>\n",
       "</table>\n",
       "</div>"
      ],
      "text/plain": [
       "         Date  Mkt-RF     SMB     HML     RMW     CMA   RF\n",
       "0  2014-10-31  0.0252  0.0373 -0.0180 -0.0056 -0.0010  0.0\n",
       "1  2014-11-30  0.0255 -0.0228 -0.0310  0.0150  0.0026  0.0\n",
       "2  2014-12-31 -0.0006  0.0286  0.0227 -0.0122  0.0096  0.0\n",
       "3  2015-01-31 -0.0311 -0.0092 -0.0359  0.0161 -0.0165  0.0\n",
       "4  2015-02-28  0.0613  0.0032 -0.0186 -0.0112 -0.0182  0.0"
      ]
     },
     "execution_count": 16,
     "metadata": {},
     "output_type": "execute_result"
    }
   ],
   "source": [
    "ff5 = pd.read_csv(\"__data/F-F_Research_Data_5_Factors_2x3.csv\", skiprows=3, index_col=0)\n",
    "\n",
    "# Convert the index to datetime\n",
    "ff5.index = pd.to_datetime(ff5.index, format='%Y%m') + MonthEnd(0)\n",
    "\n",
    "# Remove any potential whitespace in column names\n",
    "ff5.columns = ff5.columns.str.strip()\n",
    "\n",
    "# Convert data to numeric, replacing any non-numeric values with NaN\n",
    "for col in ff5.columns:\n",
    "    ff5[col] = pd.to_numeric(ff5[col], errors='coerce')\n",
    "    ff5[col] = ff5[col] / 100 #Divide by 100 to get actual \"returns\" as decimals\n",
    "\n",
    "# Drop observations older than 2009-10-02\n",
    "ff5 = ff5[ff5.index >= '2014-10-02']\n",
    "\n",
    "# Create a new \"Date\" column from the index\n",
    "ff5[\"Date\"] = ff5.index\n",
    "ff5['Date'] = ff5[\"Date\"].dt.date\n",
    "\n",
    "# Sort columns and drop index\n",
    "ff5 = ff5[['Date', 'Mkt-RF', 'SMB', 'HML', 'RMW', 'CMA', 'RF']]\n",
    "ff5.reset_index(drop=True, inplace=True)\n",
    "\n",
    "# Display the first few rows of the resulting dataframe\n",
    "ff5.head()"
   ]
  },
  {
   "cell_type": "markdown",
   "metadata": {
    "id": "dn066ufmvHeG"
   },
   "source": [
    "### **1.5 Merging Data**"
   ]
  },
  {
   "cell_type": "code",
   "execution_count": 17,
   "metadata": {
    "colab": {
     "base_uri": "https://localhost:8080/",
     "height": 557
    },
    "id": "mLpalv9XvHeG",
    "outputId": "47ac9bfd-4e26-415b-b784-a6c05e0df661"
   },
   "outputs": [
    {
     "data": {
      "text/html": [
       "<div>\n",
       "<style scoped>\n",
       "    .dataframe tbody tr th:only-of-type {\n",
       "        vertical-align: middle;\n",
       "    }\n",
       "\n",
       "    .dataframe tbody tr th {\n",
       "        vertical-align: top;\n",
       "    }\n",
       "\n",
       "    .dataframe thead th {\n",
       "        text-align: right;\n",
       "    }\n",
       "</style>\n",
       "<table border=\"1\" class=\"dataframe\">\n",
       "  <thead>\n",
       "    <tr style=\"text-align: right;\">\n",
       "      <th></th>\n",
       "      <th>Date</th>\n",
       "      <th>return_vt</th>\n",
       "      <th>return_veu</th>\n",
       "      <th>return_ivv</th>\n",
       "      <th>return_ijh</th>\n",
       "      <th>return_ijr</th>\n",
       "      <th>return_high_esg</th>\n",
       "      <th>return_low_esg</th>\n",
       "      <th>ESG_Factor</th>\n",
       "      <th>Mom_12_1_Factor</th>\n",
       "      <th>Mom_6_1_Factor</th>\n",
       "      <th>Mkt-RF</th>\n",
       "      <th>SMB</th>\n",
       "      <th>HML</th>\n",
       "      <th>RMW</th>\n",
       "      <th>CMA</th>\n",
       "      <th>RF</th>\n",
       "    </tr>\n",
       "  </thead>\n",
       "  <tbody>\n",
       "    <tr>\n",
       "      <th>0</th>\n",
       "      <td>2014-12-31</td>\n",
       "      <td>-0.019819</td>\n",
       "      <td>-0.039522</td>\n",
       "      <td>-0.002970</td>\n",
       "      <td>0.008344</td>\n",
       "      <td>0.028915</td>\n",
       "      <td>0.002209</td>\n",
       "      <td>-0.004320</td>\n",
       "      <td>-0.006529</td>\n",
       "      <td>-0.006055</td>\n",
       "      <td>0.021093</td>\n",
       "      <td>-0.0006</td>\n",
       "      <td>0.0286</td>\n",
       "      <td>0.0227</td>\n",
       "      <td>-0.0122</td>\n",
       "      <td>0.0096</td>\n",
       "      <td>0.0</td>\n",
       "    </tr>\n",
       "    <tr>\n",
       "      <th>1</th>\n",
       "      <td>2015-01-31</td>\n",
       "      <td>-0.016300</td>\n",
       "      <td>-0.000213</td>\n",
       "      <td>-0.029004</td>\n",
       "      <td>-0.011257</td>\n",
       "      <td>-0.035858</td>\n",
       "      <td>-0.022392</td>\n",
       "      <td>-0.021974</td>\n",
       "      <td>0.000419</td>\n",
       "      <td>0.018268</td>\n",
       "      <td>0.006628</td>\n",
       "      <td>-0.0311</td>\n",
       "      <td>-0.0092</td>\n",
       "      <td>-0.0359</td>\n",
       "      <td>0.0161</td>\n",
       "      <td>-0.0165</td>\n",
       "      <td>0.0</td>\n",
       "    </tr>\n",
       "    <tr>\n",
       "      <th>2</th>\n",
       "      <td>2015-02-28</td>\n",
       "      <td>0.059520</td>\n",
       "      <td>0.058485</td>\n",
       "      <td>0.056454</td>\n",
       "      <td>0.050848</td>\n",
       "      <td>0.060107</td>\n",
       "      <td>0.046598</td>\n",
       "      <td>0.066291</td>\n",
       "      <td>0.019693</td>\n",
       "      <td>-0.029002</td>\n",
       "      <td>-0.034502</td>\n",
       "      <td>0.0613</td>\n",
       "      <td>0.0032</td>\n",
       "      <td>-0.0186</td>\n",
       "      <td>-0.0112</td>\n",
       "      <td>-0.0182</td>\n",
       "      <td>0.0</td>\n",
       "    </tr>\n",
       "    <tr>\n",
       "      <th>3</th>\n",
       "      <td>2015-03-31</td>\n",
       "      <td>-0.012138</td>\n",
       "      <td>-0.014138</td>\n",
       "      <td>-0.015971</td>\n",
       "      <td>0.013354</td>\n",
       "      <td>0.016001</td>\n",
       "      <td>-0.013119</td>\n",
       "      <td>0.000508</td>\n",
       "      <td>0.013627</td>\n",
       "      <td>0.020135</td>\n",
       "      <td>0.034485</td>\n",
       "      <td>-0.0112</td>\n",
       "      <td>0.0307</td>\n",
       "      <td>-0.0038</td>\n",
       "      <td>0.0009</td>\n",
       "      <td>-0.0052</td>\n",
       "      <td>0.0</td>\n",
       "    </tr>\n",
       "    <tr>\n",
       "      <th>4</th>\n",
       "      <td>2015-04-30</td>\n",
       "      <td>0.025491</td>\n",
       "      <td>0.047404</td>\n",
       "      <td>0.009720</td>\n",
       "      <td>-0.014213</td>\n",
       "      <td>-0.023045</td>\n",
       "      <td>0.001217</td>\n",
       "      <td>0.004866</td>\n",
       "      <td>0.003650</td>\n",
       "      <td>-0.046951</td>\n",
       "      <td>-0.059439</td>\n",
       "      <td>0.0059</td>\n",
       "      <td>-0.0309</td>\n",
       "      <td>0.0182</td>\n",
       "      <td>0.0006</td>\n",
       "      <td>-0.0061</td>\n",
       "      <td>0.0</td>\n",
       "    </tr>\n",
       "    <tr>\n",
       "      <th>5</th>\n",
       "      <td>2015-05-31</td>\n",
       "      <td>0.003325</td>\n",
       "      <td>-0.010384</td>\n",
       "      <td>0.013009</td>\n",
       "      <td>0.016687</td>\n",
       "      <td>0.014570</td>\n",
       "      <td>0.008460</td>\n",
       "      <td>0.021605</td>\n",
       "      <td>0.013145</td>\n",
       "      <td>0.022637</td>\n",
       "      <td>0.017589</td>\n",
       "      <td>0.0136</td>\n",
       "      <td>0.0084</td>\n",
       "      <td>-0.0115</td>\n",
       "      <td>-0.0180</td>\n",
       "      <td>-0.0075</td>\n",
       "      <td>0.0</td>\n",
       "    </tr>\n",
       "    <tr>\n",
       "      <th>6</th>\n",
       "      <td>2015-06-30</td>\n",
       "      <td>-0.022203</td>\n",
       "      <td>-0.028093</td>\n",
       "      <td>-0.019817</td>\n",
       "      <td>-0.012348</td>\n",
       "      <td>0.010573</td>\n",
       "      <td>-0.025465</td>\n",
       "      <td>-0.008085</td>\n",
       "      <td>0.017379</td>\n",
       "      <td>0.008750</td>\n",
       "      <td>-0.007090</td>\n",
       "      <td>-0.0153</td>\n",
       "      <td>0.0290</td>\n",
       "      <td>-0.0079</td>\n",
       "      <td>0.0044</td>\n",
       "      <td>-0.0158</td>\n",
       "      <td>0.0</td>\n",
       "    </tr>\n",
       "    <tr>\n",
       "      <th>7</th>\n",
       "      <td>2015-07-31</td>\n",
       "      <td>0.005039</td>\n",
       "      <td>-0.002884</td>\n",
       "      <td>0.021909</td>\n",
       "      <td>0.000200</td>\n",
       "      <td>-0.008313</td>\n",
       "      <td>0.004966</td>\n",
       "      <td>0.001460</td>\n",
       "      <td>-0.003506</td>\n",
       "      <td>0.034223</td>\n",
       "      <td>-0.013400</td>\n",
       "      <td>0.0154</td>\n",
       "      <td>-0.0455</td>\n",
       "      <td>-0.0413</td>\n",
       "      <td>0.0030</td>\n",
       "      <td>-0.0242</td>\n",
       "      <td>0.0</td>\n",
       "    </tr>\n",
       "    <tr>\n",
       "      <th>8</th>\n",
       "      <td>2015-08-31</td>\n",
       "      <td>-0.066311</td>\n",
       "      <td>-0.077464</td>\n",
       "      <td>-0.061438</td>\n",
       "      <td>-0.055996</td>\n",
       "      <td>-0.051925</td>\n",
       "      <td>-0.053230</td>\n",
       "      <td>-0.044431</td>\n",
       "      <td>0.008799</td>\n",
       "      <td>-0.001446</td>\n",
       "      <td>-0.002896</td>\n",
       "      <td>-0.0604</td>\n",
       "      <td>0.0025</td>\n",
       "      <td>0.0277</td>\n",
       "      <td>0.0068</td>\n",
       "      <td>0.0119</td>\n",
       "      <td>0.0</td>\n",
       "    </tr>\n",
       "    <tr>\n",
       "      <th>9</th>\n",
       "      <td>2015-09-30</td>\n",
       "      <td>-0.037109</td>\n",
       "      <td>-0.040316</td>\n",
       "      <td>-0.024981</td>\n",
       "      <td>-0.031629</td>\n",
       "      <td>-0.035272</td>\n",
       "      <td>-0.029791</td>\n",
       "      <td>-0.051614</td>\n",
       "      <td>-0.021822</td>\n",
       "      <td>0.041038</td>\n",
       "      <td>0.030557</td>\n",
       "      <td>-0.0307</td>\n",
       "      <td>-0.0279</td>\n",
       "      <td>0.0056</td>\n",
       "      <td>0.0177</td>\n",
       "      <td>-0.0058</td>\n",
       "      <td>0.0</td>\n",
       "    </tr>\n",
       "  </tbody>\n",
       "</table>\n",
       "</div>"
      ],
      "text/plain": [
       "         Date  return_vt  return_veu  return_ivv  return_ijh  return_ijr  \\\n",
       "0  2014-12-31  -0.019819   -0.039522   -0.002970    0.008344    0.028915   \n",
       "1  2015-01-31  -0.016300   -0.000213   -0.029004   -0.011257   -0.035858   \n",
       "2  2015-02-28   0.059520    0.058485    0.056454    0.050848    0.060107   \n",
       "3  2015-03-31  -0.012138   -0.014138   -0.015971    0.013354    0.016001   \n",
       "4  2015-04-30   0.025491    0.047404    0.009720   -0.014213   -0.023045   \n",
       "5  2015-05-31   0.003325   -0.010384    0.013009    0.016687    0.014570   \n",
       "6  2015-06-30  -0.022203   -0.028093   -0.019817   -0.012348    0.010573   \n",
       "7  2015-07-31   0.005039   -0.002884    0.021909    0.000200   -0.008313   \n",
       "8  2015-08-31  -0.066311   -0.077464   -0.061438   -0.055996   -0.051925   \n",
       "9  2015-09-30  -0.037109   -0.040316   -0.024981   -0.031629   -0.035272   \n",
       "\n",
       "   return_high_esg  return_low_esg  ESG_Factor  Mom_12_1_Factor  \\\n",
       "0         0.002209       -0.004320   -0.006529        -0.006055   \n",
       "1        -0.022392       -0.021974    0.000419         0.018268   \n",
       "2         0.046598        0.066291    0.019693        -0.029002   \n",
       "3        -0.013119        0.000508    0.013627         0.020135   \n",
       "4         0.001217        0.004866    0.003650        -0.046951   \n",
       "5         0.008460        0.021605    0.013145         0.022637   \n",
       "6        -0.025465       -0.008085    0.017379         0.008750   \n",
       "7         0.004966        0.001460   -0.003506         0.034223   \n",
       "8        -0.053230       -0.044431    0.008799        -0.001446   \n",
       "9        -0.029791       -0.051614   -0.021822         0.041038   \n",
       "\n",
       "   Mom_6_1_Factor  Mkt-RF     SMB     HML     RMW     CMA   RF  \n",
       "0        0.021093 -0.0006  0.0286  0.0227 -0.0122  0.0096  0.0  \n",
       "1        0.006628 -0.0311 -0.0092 -0.0359  0.0161 -0.0165  0.0  \n",
       "2       -0.034502  0.0613  0.0032 -0.0186 -0.0112 -0.0182  0.0  \n",
       "3        0.034485 -0.0112  0.0307 -0.0038  0.0009 -0.0052  0.0  \n",
       "4       -0.059439  0.0059 -0.0309  0.0182  0.0006 -0.0061  0.0  \n",
       "5        0.017589  0.0136  0.0084 -0.0115 -0.0180 -0.0075  0.0  \n",
       "6       -0.007090 -0.0153  0.0290 -0.0079  0.0044 -0.0158  0.0  \n",
       "7       -0.013400  0.0154 -0.0455 -0.0413  0.0030 -0.0242  0.0  \n",
       "8       -0.002896 -0.0604  0.0025  0.0277  0.0068  0.0119  0.0  \n",
       "9        0.030557 -0.0307 -0.0279  0.0056  0.0177 -0.0058  0.0  "
      ]
     },
     "execution_count": 17,
     "metadata": {},
     "output_type": "execute_result"
    }
   ],
   "source": [
    "# Merge all datasets on the Date column\n",
    "dataframes = [vt, veu, ivv, ijh, ijr, esg_data_subsetted, mom_12_1, mom_6_1, ff5]\n",
    "\n",
    "#Merge data\n",
    "data = reduce(lambda left, right: pd.merge(left, right, on = \"Date\"), dataframes)\n",
    "\n",
    "# Display the first few rows and column names of the resulting dataframe\n",
    "data.head(10)"
   ]
  },
  {
   "cell_type": "code",
   "execution_count": 18,
   "metadata": {
    "colab": {
     "base_uri": "https://localhost:8080/"
    },
    "id": "A6sgatfWvHeH",
    "outputId": "b1eda3f2-a693-475f-acd9-3e4250688998"
   },
   "outputs": [
    {
     "data": {
      "text/plain": [
       "109"
      ]
     },
     "execution_count": 18,
     "metadata": {},
     "output_type": "execute_result"
    }
   ],
   "source": [
    "#Len data\n",
    "len(data)"
   ]
  },
  {
   "cell_type": "markdown",
   "metadata": {
    "id": "4f63ieHMvHd8"
   },
   "source": [
    "## **2 Visualizing Data**"
   ]
  },
  {
   "cell_type": "markdown",
   "metadata": {
    "id": "shAOKPBCQZLo"
   },
   "source": [
    "### **2.1 Return Distributions**"
   ]
  },
  {
   "cell_type": "code",
   "execution_count": 19,
   "metadata": {
    "id": "77FqeHMwyUOL"
   },
   "outputs": [],
   "source": [
    "def plotXReturnDistributions(data_list, column_names, labels, colors, title, x_label, y_label):\n",
    "\n",
    "  plt.figure(figsize=(10, 6), dpi=100)\n",
    "\n",
    "  for i in range(len(column_names)):\n",
    "    data = data_list[i]\n",
    "    column_name = column_names[i]\n",
    "\n",
    "    sns.kdeplot(data[column_name], color = colors[i], label = labels[i], fill = False, alpha = 0.35)\n",
    "\n",
    "  # Add labels and title\n",
    "  plt.xlabel(x_label)\n",
    "  plt.ylabel(y_label)\n",
    "  plt.title(title)\n",
    "\n",
    "  # Add legend\n",
    "  plt.legend(bbox_to_anchor = (1.05, 1), loc = \"upper left\", frameon = False)\n",
    "\n",
    "  # Remove Grid\n",
    "  plt.grid(visible = False)\n",
    "\n",
    "  # Show plot\n",
    "  plt.show()"
   ]
  },
  {
   "cell_type": "markdown",
   "metadata": {
    "id": "XXOdjrZhvHd9"
   },
   "source": [
    "**ESG data**"
   ]
  },
  {
   "cell_type": "code",
   "execution_count": 20,
   "metadata": {
    "colab": {
     "base_uri": "https://localhost:8080/",
     "height": 564
    },
    "id": "zv5nWx2H0-GH",
    "outputId": "25cec125-cf45-4e0a-876f-6897eae27154"
   },
   "outputs": [
    {
     "data": {
      "image/png": "[encoded data removed]",
      "text/plain": [
       "<Figure size 1000x600 with 1 Axes>"
      ]
     },
     "metadata": {},
     "output_type": "display_data"
    }
   ],
   "source": [
    "data_list = [data, data]\n",
    "column_names = [\"return_low_esg\", \"return_high_esg\"]\n",
    "labels = [\"Low ESG Score Portfolio\", \"High ESG Score Portfolio\"]\n",
    "colors = [\"blue\", \"green\"]\n",
    "\n",
    "plotXReturnDistributions(data_list, column_names, labels, colors,\n",
    "                           title = \"Monthly Return Distribution of ESG Portfolios\",\n",
    "                           x_label = \"Monthly Return\",\n",
    "                           y_label = \"Percentage (%)\")"
   ]
  },
  {
   "cell_type": "markdown",
   "metadata": {},
   "source": []
  },
  {
   "cell_type": "markdown",
   "metadata": {
    "id": "f62oseF7vHeA"
   },
   "source": [
    "**Global Market Portfolios**"
   ]
  },
  {
   "cell_type": "code",
   "execution_count": 21,
   "metadata": {
    "colab": {
     "base_uri": "https://localhost:8080/",
     "height": 564
    },
    "id": "q9EAi1e66Xjx",
    "outputId": "a0a40fea-89ed-4ef7-bc9e-6d49c842d7e6"
   },
   "outputs": [
    {
     "data": {
      "image/png": "[encoded data removed]",
      "text/plain": [
       "<Figure size 1000x600 with 1 Axes>"
      ]
     },
     "metadata": {},
     "output_type": "display_data"
    }
   ],
   "source": [
    "data_list = [data, data]\n",
    "column_names = [\"return_vt\", \"return_veu\"]\n",
    "labels = [\"Vanguard Total World Stock ETF\", \"Vanguard FTSE All-World ex-US ETF\"]\n",
    "colors = [\"blue\", \"green\"]\n",
    "\n",
    "plotXReturnDistributions(data_list, column_names, labels, colors,\n",
    "                           title = \"Monthly Return Distribution of Global Market Portfolios\",\n",
    "                           x_label = \"Monthly Return\",\n",
    "                           y_label = \"Percentage (%)\")"
   ]
  },
  {
   "cell_type": "markdown",
   "metadata": {},
   "source": []
  },
  {
   "cell_type": "markdown",
   "metadata": {
    "id": "MB7M8TukvHeB"
   },
   "source": [
    "**U.S. Market Portfolios**"
   ]
  },
  {
   "cell_type": "code",
   "execution_count": 22,
   "metadata": {
    "colab": {
     "base_uri": "https://localhost:8080/",
     "height": 564
    },
    "id": "Y-BljvUz4gfE",
    "outputId": "f90fd457-6d03-407c-9efb-812cb55b41f0"
   },
   "outputs": [
    {
     "data": {
      "image/png": "[encoded data removed]",
      "text/plain": [
       "<Figure size 1000x600 with 1 Axes>"
      ]
     },
     "metadata": {},
     "output_type": "display_data"
    }
   ],
   "source": [
    "data_list = [data, data, data]\n",
    "column_names = [\"return_ivv\", \"return_ijh\", \"return_ijr\"]\n",
    "labels = [\"S&P 500\", \"S&P Mid-Cap\", \"S&P Small Cap\"]\n",
    "colors = [\"blue\", \"green\", \"red\"]\n",
    "\n",
    "plotXReturnDistributions(data_list, column_names, labels, colors,\n",
    "                           title = \"Monthly Return Distribution of U.S. Market Portfolios\",\n",
    "                           x_label = \"Monthly Return\",\n",
    "                           y_label = \"Percentage (%)\")"
   ]
  },
  {
   "cell_type": "markdown",
   "metadata": {},
   "source": []
  },
  {
   "cell_type": "markdown",
   "metadata": {
    "id": "Dn2HZl9wKhnf"
   },
   "source": [
    "**Momentum Factor**"
   ]
  },
  {
   "cell_type": "code",
   "execution_count": 23,
   "metadata": {
    "colab": {
     "base_uri": "https://localhost:8080/",
     "height": 564
    },
    "id": "9wvy9IKWPdPQ",
    "outputId": "6d4c98f2-8144-4508-f3e4-386c8e4db0e4"
   },
   "outputs": [
    {
     "data": {
      "image/png": "[encoded data removed]",
      "text/plain": [
       "<Figure size 1000x600 with 1 Axes>"
      ]
     },
     "metadata": {},
     "output_type": "display_data"
    }
   ],
   "source": [
    "data_list = [data, data]\n",
    "column_names = [\"Mom_6_1_Factor\", \"Mom_12_1_Factor\"]\n",
    "labels = [\"Momentum Factor t-6 to t-1\", \"Momentum Factor t-12 to t-1\"]\n",
    "colors = [\"blue\", \"green\"]\n",
    "\n",
    "plotXReturnDistributions(data_list, column_names, labels, colors,\n",
    "                           title = \"Monthly Return Distribution of Momentum Factor\",\n",
    "                           x_label = \"Monthly Return\",\n",
    "                           y_label = \"Percentage (%)\")"
   ]
  },
  {
   "cell_type": "markdown",
   "metadata": {},
   "source": [
    "**Comparison**"
   ]
  },
  {
   "cell_type": "code",
   "execution_count": null,
   "metadata": {},
   "outputs": [],
   "source": [
    "# Create data_list with separate DataFrames for each column\n",
    "data_list = [data[[col]] for col in column_names]  # Create separate DataFrames for each column\n",
    "\n",
    "# Prepare data for plotting\n",
    "column_names = [\"return_low_esg\", \"return_high_esg\", \"return_vt\", \"return_veu\", \n",
    "                \"return_ivv\", \"return_ijh\", \"return_ijr\", \"Mom_6_1_Factor\", \"Mom_12_1_Factor\"]\n",
    "labels = [\"Low ESG Score Portfolio\", \"High ESG Score Portfolio\", \n",
    "          \"Vanguard Total World Stock ETF\", \"Vanguard FTSE All-World ex-US ETF\", \n",
    "          \"S&P 500\", \"S&P Mid-Cap\", \"S&P Small Cap\", \n",
    "          \"Momentum Factor t-6 to t-1\", \"Momentum Factor t-12 to t-1\"]\n",
    "colors = sns.color_palette(\"dark\") \n",
    "\n",
    "# Plot the distributions\n",
    "plt.figure(figsize=(10, 6), dpi=100)\n",
    "for i in range(len(column_names)):\n",
    "    data = data_list[i]\n",
    "    column_name = column_names[i]\n",
    "    sns.kdeplot(data[column_name], color=colors[i], label=labels[i], fill=False, alpha=0.35)\n",
    "\n",
    "plt.title(\"Monthly Return Distribution of all portfolios\")\n",
    "plt.xlabel(\"Monthly Return\")\n",
    "plt.ylabel(\"Percentage (%)\")\n",
    "plt.legend()\n",
    "plt.show()"
   ]
  },
  {
   "cell_type": "markdown",
   "metadata": {},
   "source": [
    "*Distribution Characteristics:*\n",
    "- The S&P 500, Mid-Cap, and Small-Cap indices show similar distribution patterns with moderate peaks and relatively wide spreads, indicating typical market volatility\n",
    "- Vanguard's Total World Stock ETF and FTSE All-World ex-US ETF display comparable patterns, suggesting similar risk-return characteristics\n",
    "- Both High and Low ESG Score portfolios exhibit similar distribution shapes to the broader market indices, suggesting ESG screening may not significantly impact return patterns\n",
    "- The Momentum Factor curves (both 6-1 and 12-1) stand out with notably higher and narrower peaks, indicating more consistent returns but potentially lower overall returns\n",
    "\n",
    "*Risk Implications:*\n",
    "- Broader distributions (market indices): Higher volatility and potential for extreme returns\n",
    "- Narrower distributions (Momentum Factors): Lower volatility with more predictable returns\n",
    "- ESG portfolios: Risk profile similar to broad market indices\n",
    "\n",
    "**Conclusion:**\n",
    "\n",
    "This visualization demonstrates the risk-return trade-offs across different investment strategies, with momentum factors showing distinctly different characteristics from market-based portfolios."
   ]
  },
  {
   "cell_type": "markdown",
   "metadata": {
    "id": "ri4ch6W4QkVe"
   },
   "source": [
    "### **2.2 Returns over Time**"
   ]
  },
  {
   "cell_type": "code",
   "execution_count": null,
   "metadata": {
    "id": "lKfMxo32RSg2"
   },
   "outputs": [],
   "source": [
    "def plotXReturnsOverTime(data_list, column_names, labels, title, x_label, y_label):\n",
    "\n",
    "  plt.figure(figsize=(10, 6), dpi=100)\n",
    "\n",
    "  for i in range(len(column_names)):\n",
    "    data = data_list[i]\n",
    "    column_name = column_names[i]\n",
    "\n",
    "    sns.lineplot(data = data, x = \"Date\", y = column_name, label = labels[i])\n",
    "\n",
    "  # Add labels and title\n",
    "  plt.xlabel(x_label)\n",
    "  plt.ylabel(y_label)\n",
    "  plt.title(title)\n",
    "\n",
    "  # Add legend\n",
    "  plt.legend(bbox_to_anchor = (1.05, 1), loc = \"upper left\", frameon = False)\n",
    "\n",
    "  # Remove Grid\n",
    "  plt.grid(visible = False)\n",
    "\n",
    "  # Show plot\n",
    "  plt.show()"
   ]
  },
  {
   "cell_type": "markdown",
   "metadata": {
    "id": "UwfbAv6uW7m7"
   },
   "source": [
    "**ESG Factor**"
   ]
  },
  {
   "cell_type": "code",
   "execution_count": null,
   "metadata": {
    "colab": {
     "base_uri": "https://localhost:8080/",
     "height": 564
    },
    "id": "34f6eElrW8_T",
    "outputId": "38473f6f-59d1-49ce-c653-dec159d48261"
   },
   "outputs": [],
   "source": [
    "data_list = [data]\n",
    "column_names = [\"ESG_Factor\"]\n",
    "labels = [\"ESG Factor\"]\n",
    "\n",
    "plotXReturnsOverTime(data_list, column_names, labels, \"ESG Factor over Time\", \"Date\", \"Return\")"
   ]
  },
  {
   "cell_type": "markdown",
   "metadata": {
    "id": "eD28KnubVVP3"
   },
   "source": [
    "**Momentum Factor**"
   ]
  },
  {
   "cell_type": "code",
   "execution_count": null,
   "metadata": {
    "colab": {
     "base_uri": "https://localhost:8080/",
     "height": 564
    },
    "id": "GUz45sypQn2a",
    "outputId": "ce7708b7-3990-49c4-bb02-39547b45730c"
   },
   "outputs": [],
   "source": [
    "data_list = [data, data]\n",
    "column_names = [\"Mom_6_1_Factor\", \"Mom_12_1_Factor\"]\n",
    "labels = [\"Momentum Factor t-6 to t-1\", \"Momentum Factor t-12 to t-1\"]\n",
    "\n",
    "plotXReturnsOverTime(data_list, column_names, labels, \"Momentum Factor over Time\", \"Date\", \"Return\")"
   ]
  },
  {
   "cell_type": "markdown",
   "metadata": {
    "id": "_Bj0vptCoxXp"
   },
   "source": [
    "**Momentum & ESG Factor**"
   ]
  },
  {
   "cell_type": "code",
   "execution_count": null,
   "metadata": {
    "colab": {
     "base_uri": "https://localhost:8080/",
     "height": 564
    },
    "id": "NuYq18eeow7S",
    "outputId": "df497d98-cbd0-4441-bdad-5cfe878a250d"
   },
   "outputs": [],
   "source": [
    "data_list = [data, data]\n",
    "column_names = [\"ESG_Factor\", \"Mom_12_1_Factor\"]\n",
    "labels = [\"ESG Factor\", \"Momentum Factor t-12 to t-1\"]\n",
    "\n",
    "plotXReturnsOverTime(data_list, column_names, labels, \"Momentum & ESG Factor over Time\", \"Date\", \"Return\")"
   ]
  },
  {
   "cell_type": "markdown",
   "metadata": {},
   "source": [
    "**Conclusion:** \n",
    "\n",
    "The plot demonstrates the distinct characteristics of ESG Factor and Momentum Factor, with Momentum showing higher volatility and more extreme returns, while ESG maintains more stable performance over time. This complements the distribution plot by showing how these patterns evolved chronologically."
   ]
  },
  {
   "cell_type": "markdown",
   "metadata": {
    "id": "B8l7apN1vHeU"
   },
   "source": [
    "## **3. Conduct FF5 including Momentum and ESG-Factor and Visualize Correlation with Heatmap**"
   ]
  },
  {
   "cell_type": "markdown",
   "metadata": {
    "id": "T0UyeYed-4_I"
   },
   "source": [
    "### **3.1 Run Regression**"
   ]
  },
  {
   "cell_type": "code",
   "execution_count": null,
   "metadata": {
    "id": "1MVRB4ileGs8"
   },
   "outputs": [],
   "source": [
    "#Copy Data for Regression to prevent altering original Data\n",
    "regression_data = data.copy()"
   ]
  },
  {
   "cell_type": "code",
   "execution_count": null,
   "metadata": {
    "id": "ggcrgMhveDvS"
   },
   "outputs": [],
   "source": [
    "#Function to Compute Excess Return\n",
    "def computeExcessReturn(regression_data, suffix):\n",
    "  regression_data[f\"return_{suffix}_excess\"] = regression_data[f\"return_{suffix}\"] - regression_data[\"RF\"]"
   ]
  },
  {
   "cell_type": "code",
   "execution_count": null,
   "metadata": {
    "id": "gtJPgUqWfbRj"
   },
   "outputs": [],
   "source": [
    "#Function to Run Regression\n",
    "def runRegression(regression_data, y, X):\n",
    "  y = regression_data[y]\n",
    "\n",
    "  X = regression_data[X]\n",
    "  X = sm.add_constant(X)  # Add constant term\n",
    "\n",
    "  model = sm.OLS(y, X).fit()\n",
    "\n",
    "  return model"
   ]
  },
  {
   "cell_type": "code",
   "execution_count": null,
   "metadata": {
    "id": "S_oLfYK0gRU7"
   },
   "outputs": [],
   "source": [
    "computeExcessReturn(regression_data, \"vt\") # Vanguard Total World Stock ETF\n",
    "computeExcessReturn(regression_data, \"veu\") # Vanguard FTSE All-World ex-US ETF\n",
    "computeExcessReturn(regression_data, \"ivv\") # iShares Core S&P 500 ETF\n",
    "computeExcessReturn(regression_data, \"ijh\") # iShares Core S&P Mid-Cap ETF\n",
    "computeExcessReturn(regression_data, \"ijr\") # iShares Core S&P Small-Cap ETF"
   ]
  },
  {
   "cell_type": "code",
   "execution_count": null,
   "metadata": {
    "id": "Xn3YD-lHgeXf"
   },
   "outputs": [],
   "source": [
    "#Regressors\n",
    "X = [\"Mkt-RF\", \"SMB\", \"HML\", \"RMW\", \"CMA\", \"Mom_12_1_Factor\", \"ESG_Factor\"]\n",
    "y = [\"return_vt_excess\", \"return_veu_excess\", \"return_ivv_excess\", \"return_ijh_excess\", \"return_ijr_excess\"]\n",
    "\n",
    "#Adding all variables to a list\n",
    "coefficients = X.copy()\n",
    "coefficients.extend(y)\n",
    "\n",
    "#Save models\n",
    "models = {}\n",
    "\n",
    "#Run Regression\n",
    "for y_col in y:\n",
    "  model = runRegression(regression_data, y_col, X)\n",
    "\n",
    "  models[y_col] = model"
   ]
  },
  {
   "cell_type": "code",
   "execution_count": null,
   "metadata": {
    "colab": {
     "base_uri": "https://localhost:8080/",
     "height": 1000
    },
    "id": "w3EVg5nphgie",
    "outputId": "d53e1706-3d7d-43ba-e5ff-b63d92a80323"
   },
   "outputs": [],
   "source": [
    "for y_col, model in models.items():\n",
    "  display(Markdown(f\"### **Results for {y_col}:**\\n\"))\n",
    "  print(model.summary())"
   ]
  },
  {
   "cell_type": "markdown",
   "metadata": {
    "id": "hIqfiuWc--Jh"
   },
   "source": [
    "### **3.2 Calculate & Plot Pearson Correlation Coefficient**"
   ]
  },
  {
   "cell_type": "code",
   "execution_count": null,
   "metadata": {
    "id": "o5Ybn6EJAwab"
   },
   "outputs": [],
   "source": [
    "def plotHeatmap(corr_matrix, title):\n",
    "  plt.figure(figsize=(12, 10))\n",
    "\n",
    "  #Plot Heatmap\n",
    "  sns.heatmap(corr_matrix, annot = True, cmap = 'coolwarm', vmin = -1, vmax = 1, center = 0, fmt='.2f')\n",
    "\n",
    "  # Move x-axis to top\n",
    "  plt.gca().xaxis.set_ticks_position('top')\n",
    "  plt.gca().xaxis.set_label_position('top')\n",
    "\n",
    "  #Rotate labels on X-Axis\n",
    "  plt.xticks(rotation = 45)\n",
    "\n",
    "  #Add title\n",
    "  plt.title(\"Pearson Correlation Coefficient\")\n",
    "  plt.show()"
   ]
  },
  {
   "cell_type": "code",
   "execution_count": null,
   "metadata": {
    "id": "KNY9DGTW_BWL"
   },
   "outputs": [],
   "source": [
    "#Calculating Correlation Coefficients\n",
    "corr_matrix = regression_data[coefficients].corr()"
   ]
  },
  {
   "cell_type": "code",
   "execution_count": null,
   "metadata": {
    "colab": {
     "base_uri": "https://localhost:8080/",
     "height": 948
    },
    "id": "8KDMij9wFTTy",
    "outputId": "115bc191-d0f5-4bd2-939c-f53d8e9e8f16"
   },
   "outputs": [],
   "source": [
    "plotHeatmap(corr_matrix, \"Pearson Correlation Coefficient\")"
   ]
  },
  {
   "cell_type": "markdown",
   "metadata": {
    "id": "eRImn-I8G-se"
   },
   "source": [
    "### **3.2 Calculate & Plot Spearman Rank Correlation**"
   ]
  },
  {
   "cell_type": "code",
   "execution_count": null,
   "metadata": {
    "id": "Se2SJX0GHCZ2"
   },
   "outputs": [],
   "source": [
    "#Subset Data to only look at wanted columns\n",
    "spearman_rank_data = regression_data[coefficients].copy()\n",
    "\n",
    "#Calculate Rank Correlation\n",
    "spearman_corr = spearman_rank_data.corr(method = 'spearman')"
   ]
  },
  {
   "cell_type": "code",
   "execution_count": null,
   "metadata": {
    "colab": {
     "base_uri": "https://localhost:8080/",
     "height": 948
    },
    "id": "FITFrsH-HUUw",
    "outputId": "1e4e2dfc-3677-458e-905c-0828ae05b4b7"
   },
   "outputs": [],
   "source": [
    "plotHeatmap(spearman_corr, \"Spearman Rank Correlation\")"
   ]
  },
  {
   "cell_type": "markdown",
   "metadata": {},
   "source": [
    "*Strong Market Factor Correlations*\n",
    "- The Market-RF (Mkt-RF) shows very strong positive correlations (>0.8) with various excess returns (vt, veu, ivv, jjh, jjr)\n",
    "- This indicates these returns closely follow market movements\n",
    "\n",
    "*ESG Factor Relationships*\n",
    "- The ESG Factor has a strong positive correlation (0.73) with SMB (Small Minus Big)\n",
    "- It also has moderate positive correlations (0.33 and 0.46) with the excess returns of jjh and jjr \n",
    "\n",
    "*Momentum Factor*\n",
    "- Mom_12_1_Factor shows consistently negative correlations with most variables\n",
    "- The correlations are relatively weak, ranging from -0.21 to -0.27\n",
    "\n",
    "*Return Measures Intercorrelations*\n",
    "- All excess returns (vt, veu, ivv, jjh, jjr) show strong positive correlations with each other (between 0.73 and 0.96)\n",
    "- This suggests these investment vehicles tend to move together\n",
    "\n",
    "The heatmap reveals a clear pattern of market factor dominance and strong interconnectedness among returns, while momentum appears to act as a contrarian indicator."
   ]
  },
  {
   "cell_type": "markdown",
   "metadata": {
    "id": "Jql6rBDMDHL4"
   },
   "source": [
    "### **3.3 Calculate & Plot Kendall Tau**"
   ]
  },
  {
   "cell_type": "code",
   "execution_count": null,
   "metadata": {
    "id": "kqDn1CqpDf8S"
   },
   "outputs": [],
   "source": [
    "n_cols = len(coefficients)\n",
    "\n",
    "#Initialize empty matrix\n",
    "kendall_corr_matrix = np.zeros((n_cols, n_cols))\n",
    "\n",
    "#Counting variable for rows\n",
    "row = 0\n",
    "\n",
    "#Loop over all coefficients\n",
    "for coefficient_1 in coefficients:\n",
    "\n",
    "  #Counting variable for column\n",
    "  column = 0\n",
    "\n",
    "  #Loop over all coefficients again\n",
    "  for coefficient_2 in coefficients:\n",
    "\n",
    "    #Calculate Kendall Tau Correlation\n",
    "    tau, _ = kendalltau(regression_data[coefficient_1], regression_data[coefficient_2])\n",
    "    kendall_corr_matrix[row, column] = tau\n",
    "\n",
    "    column = column + 1\n",
    "\n",
    "  row = row + 1\n",
    "\n",
    "#Convert to a DataFrame for easier plotting\n",
    "kendall_tau_df = pd.DataFrame(kendall_corr_matrix, columns = coefficients, index = coefficients)"
   ]
  },
  {
   "cell_type": "code",
   "execution_count": null,
   "metadata": {
    "colab": {
     "base_uri": "https://localhost:8080/",
     "height": 948
    },
    "id": "RSqjSNlEE8YH",
    "outputId": "3280aff4-ec21-4dba-f8e8-0272f1f6628e"
   },
   "outputs": [],
   "source": [
    "plotHeatmap(kendall_tau_df, \"Kendall Tau\") #rank-based relationships"
   ]
  },
  {
   "cell_type": "markdown",
   "metadata": {},
   "source": [
    "*Market Factor Dominance*\n",
    "- Mkt-RF exhibits extremely strong positive correlations (>0.9) with excess returns, particularly with return_ivv_excess (0.99) and return_vt_excess (0.96)\n",
    "This indicates near-perfect rank agreement between market returns and these investment vehicles.\n",
    "\n",
    "*Factor Relationships*\n",
    "- ESG_Factor shows a strong positive correlation (0.73) with SMB\n",
    "- HML has a moderate positive correlation (0.63) with CMA\n",
    "- RMW shows a moderate negative correlation (-0.49) with ESG_Factor\n",
    "\n",
    "*Momentum Characteristics*\n",
    "- Mom_12_1_Factor displays consistent negative correlations across all return measures (-0.21 to -0.27). These negative correlations are stronger than in the Spearman correlation, suggesting a more pronounced contrarian relationship\n",
    "\n",
    "*Return Series Concordance*\n",
    "- All excess returns show very strong positive correlations (0.73-0.96) with each other. \n",
    "- The strongest relationship is between return_jjh_excess and return_jjr_excess (0.96)\n",
    "\n",
    "The Kendall Tau results generally reinforce the patterns seen in the Spearman correlation but with slightly different magnitudes, providing additional confidence in the identified relationships.\n"
   ]
  },
  {
   "cell_type": "markdown",
   "metadata": {
    "id": "2RmMW4WQvHeX"
   },
   "source": [
    "## **4. Analysis of results of FF5 including Momentum and ESG-Factor**"
   ]
  },
  {
   "cell_type": "markdown",
   "metadata": {
    "id": "qNRNi-1SPyE5"
   },
   "source": [
    "### **4.1 Performance Metrics**"
   ]
  },
  {
   "cell_type": "code",
   "execution_count": null,
   "metadata": {
    "id": "crhJqP54OQmr"
   },
   "outputs": [],
   "source": [
    "#Returns Risk Free Ratio (Averatge):\n",
    "def getRiskFreeRate(data):\n",
    "  return data[\"RF\"].mean()"
   ]
  },
  {
   "cell_type": "code",
   "execution_count": null,
   "metadata": {
    "id": "ylM--6NLJRl5"
   },
   "outputs": [],
   "source": [
    "#Returns Average Return\n",
    "def getAverageReturn(data, column):\n",
    "  return data[column].mean() #Average Return"
   ]
  },
  {
   "cell_type": "code",
   "execution_count": null,
   "metadata": {
    "id": "e24IpG27JdNJ"
   },
   "outputs": [],
   "source": [
    "#Return Standard Deviation\n",
    "def getStdDev(data, column):\n",
    "  return data[column].std()"
   ]
  },
  {
   "cell_type": "code",
   "execution_count": null,
   "metadata": {
    "id": "LVP8QyPIICIu"
   },
   "outputs": [],
   "source": [
    "#Returns Annualized Return\n",
    "def getAnnualizedReturn(data, column):\n",
    "  avg_return = getAverageReturn(data, column)\n",
    "  return (1 + avg_return) ** 12 - 1"
   ]
  },
  {
   "cell_type": "code",
   "execution_count": null,
   "metadata": {
    "id": "fgD1MnBmIO8C"
   },
   "outputs": [],
   "source": [
    "#Returns Annualized Volatility\n",
    "def getAnnualizedVolatility(data, column):\n",
    "  std_return = getStdDev(data, column)\n",
    "  return std_return * np.sqrt(12) #Assuming Monthly Data"
   ]
  },
  {
   "cell_type": "code",
   "execution_count": null,
   "metadata": {
    "id": "e0GifAe3IPdL"
   },
   "outputs": [],
   "source": [
    "#Returns Sharpe Ratio\n",
    "def getSharpeRatio(data, column):\n",
    "\n",
    "  average_return = getAverageReturn(data, column)\n",
    "  std_dev = getStdDev(data, column)\n",
    "\n",
    "  return (average_return - getRiskFreeRate(data)) / std_dev if std_dev != 0 else np.nan"
   ]
  },
  {
   "cell_type": "code",
   "execution_count": null,
   "metadata": {
    "id": "YfC-EN16IPhi"
   },
   "outputs": [],
   "source": [
    "#Returns Sortino Ratio\n",
    "def getSortinoRatio(data, column):\n",
    "  downside_returns = data[column][data[column] < 0]\n",
    "  downside_deviation = np.sqrt((downside_returns**2).mean())\n",
    "\n",
    "  average_return = getAverageReturn(data, column)\n",
    "\n",
    "  return (average_return - getRiskFreeRate(data)) / downside_deviation if downside_deviation != 0 else np.nan\n"
   ]
  },
  {
   "cell_type": "code",
   "execution_count": null,
   "metadata": {
    "id": "xTJeT35wIPnI"
   },
   "outputs": [],
   "source": [
    "#Returns TreynorRatio\n",
    "def getTreynorRatio(data, column):\n",
    "\n",
    "  annualized_return = getAnnualizedReturn(data, column)\n",
    "  market_return = data[\"Mkt-RF\"].mean()\n",
    "\n",
    "  X = sm.add_constant(data[\"Mkt-RF\"])\n",
    "  model = sm.OLS(data[column], X).fit()\n",
    "\n",
    "  #Risk is here not the Std. Dev but beta\n",
    "  beta = model.params[1]\n",
    "\n",
    "  return (annualized_return - getRiskFreeRate(data)) / beta if beta != 0 else np.nan\n"
   ]
  },
  {
   "cell_type": "code",
   "execution_count": null,
   "metadata": {
    "id": "o0NzmWALIPvJ"
   },
   "outputs": [],
   "source": [
    "#Returns Alpha\n",
    "def getAlpha(data, column):\n",
    "  market_return = data[\"Mkt-RF\"].mean()\n",
    "\n",
    "  X = sm.add_constant(data[\"Mkt-RF\"])\n",
    "  model = sm.OLS(data[column], X).fit()\n",
    "\n",
    "  return model.params[0]"
   ]
  },
  {
   "cell_type": "code",
   "execution_count": null,
   "metadata": {
    "id": "AdY5vjETIZhl"
   },
   "outputs": [],
   "source": [
    "#Returns Information Ratio\n",
    "def getInformationRatio(data, column):\n",
    "\n",
    "  tracking_error = np.sqrt(((((data[column] - data[\"RF\"]) - data[\"Mkt-RF\"])).dropna())**2).mean()\n",
    "  average_return = getAverageReturn(data, column)\n",
    "\n",
    "  return (average_return - data[\"Mkt-RF\"].mean()) / tracking_error if tracking_error != 0 else np.nan"
   ]
  },
  {
   "cell_type": "code",
   "execution_count": null,
   "metadata": {
    "id": "lw3nBV95IZ8t"
   },
   "outputs": [],
   "source": [
    "#Returns M2 Measure (Modigliani Measure)\n",
    "def getM2Measure(data, column):\n",
    "  market_volatility = data[\"Mkt-RF\"].std()\n",
    "  return (getSharpeRatio(data, column) * market_volatility) + getRiskFreeRate(data)"
   ]
  },
  {
   "cell_type": "code",
   "execution_count": null,
   "metadata": {
    "id": "23kqlKhkMpcH"
   },
   "outputs": [],
   "source": [
    "round_decimals = 4\n",
    "\n",
    "def calculatePerformanceMetrics(data, column):\n",
    "  print(f\"\\nPerformance Metrics for {column}:\")\n",
    "  print(f\"1. Annualized Return: {round(getAnnualizedReturn(data, column), round_decimals)}\")\n",
    "  print(f\"2. Annualized Volatility: {round(getAnnualizedVolatility(data, column), round_decimals)}\")\n",
    "  print(f\"3. Sharpe Ratio: {round(getSharpeRatio(data, column), round_decimals)}\")\n",
    "  print(f\"4. Sortino Ratio: {round(getSortinoRatio(data, column), round_decimals)}\")\n",
    "  print(f\"5. Treynor Ratio: {round(getTreynorRatio(data, column), round_decimals)}\")\n",
    "  print(f\"6. Alpha: {round(getAlpha(data, column), round_decimals)}\")\n",
    "  print(f\"7. Information Ratio: {round(getInformationRatio(data, column), round_decimals)}\")\n",
    "  print(f\"8. M2 Measure: {round(getM2Measure(data, column), round_decimals)}\")"
   ]
  },
  {
   "cell_type": "code",
   "execution_count": null,
   "metadata": {
    "colab": {
     "base_uri": "https://localhost:8080/"
    },
    "id": "B35QqvvFMJrj",
    "outputId": "98d71dd9-5ccf-4662-fcca-d1d075b521ec"
   },
   "outputs": [],
   "source": [
    "portfolios = ['vt', 'veu', 'ivv', 'ijh', 'ijr', 'low_esg', 'high_esg']\n",
    "\n",
    "for portfolio in portfolios:\n",
    "    calculatePerformanceMetrics(regression_data, f\"return_{portfolio}\")"
   ]
  },
  {
   "cell_type": "markdown",
   "metadata": {},
   "source": [
    "*Top Performer: Low ESG Score Portfolio*\n",
    "Highest annualized return at 18.41%\n",
    "Strongest Sharpe Ratio (0.2191) indicating the best risk-adjusted returns\n",
    "Highest Alpha (0.0035) showing superior risk-adjusted performance versus the benchmark\n",
    "Highest Information Ratio (0.283) demonstrating consistent outperformance\n",
    "However, also has the highest volatility (20.73%) among all portfolios\n",
    "\n",
    "*Runner-up: S&P 500 (IVV)*\n",
    "Second-best performance with 12.96% annualized return\n",
    "Strong Sharpe Ratio (0.2015)\n",
    "Positive Alpha (0.0015)\n",
    "Lower volatility (15.70%) compared to the Low ESG portfolio\n",
    "\n",
    "*Underperformers: Vanguard FTSE All-World ex-US ETF (VEU)*\n",
    "Lowest annualized return (5.84%)\n",
    "Lowest Sharpe Ratio (0.082)\n",
    "Negative Alpha (-0.0027)\n",
    "Poorest Information Ratio (-0.234)\n",
    "\n",
    "*Risk-Return Trade-off*\n",
    "Larger-cap portfolios (VT, VEU, IVV) generally show lower volatility (around 15.5%)\n",
    "Small-cap and ESG portfolios show higher volatility (20%+)\n",
    "The Low ESG portfolio's higher returns appear to compensate for its higher risk\n",
    "\n",
    "**Conclusion:**\n",
    "\n",
    "The Low ESG Score portfolio significantly outperforms other portfolios on both absolute and risk-adjusted bases, despite higher volatility. The S&P 500 offers a more balanced risk-return profile, while international exposure through VEU has notably underperformed during this period."
   ]
  },
  {
   "cell_type": "markdown",
   "metadata": {
    "id": "Vx8czMG8vHec"
   },
   "source": [
    "### **4.2 Factor-Adjusted Performance**"
   ]
  },
  {
   "cell_type": "code",
   "execution_count": null,
   "metadata": {
    "id": "2lL0Pb0_vHec",
    "outputId": "04d3227c-36b3-4541-884c-a78a32e83ede"
   },
   "outputs": [],
   "source": [
    "def calculate_fama_french_alpha(data, portfolio):\n",
    "    try:\n",
    "        # Create a copy of the data to avoid modifying the original dataframe\n",
    "        df = data.copy()\n",
    "\n",
    "        # Ensure Date is in datetime format and set as index\n",
    "        df['Date'] = pd.to_datetime(df['Date'])\n",
    "        df.set_index('Date', inplace=True)\n",
    "\n",
    "        # Determine the correct return column name\n",
    "        if portfolio == 'esg_low':\n",
    "            return_column = 'return_low_esg'\n",
    "        elif portfolio == 'esg_high':\n",
    "            return_column = 'return_high_esg'\n",
    "        else:\n",
    "            return_column = f'return_{portfolio}'\n",
    "\n",
    "        # Calculate excess returns: portfolio returns - risk-free rate\n",
    "        df[f'Excess_Return_{portfolio}'] = df[return_column] - df['RF'] / 100  # Assuming RF is in percentage\n",
    "\n",
    "        # Prepare factors for regression (using 5-factor model)\n",
    "        X = df[['Mkt-RF', 'SMB', 'HML', 'RMW', 'CMA']].dropna()  # Independent variables\n",
    "        y = df[f'Excess_Return_{portfolio}'].dropna()   # Dependent variable\n",
    "\n",
    "        # Align X and y to ensure they have the same index after dropping NaN values\n",
    "        common_index = X.index.intersection(y.index)\n",
    "        X = X.loc[common_index]\n",
    "        y = y.loc[common_index]\n",
    "\n",
    "        # Add constant term for regression\n",
    "        X = sm.add_constant(X)\n",
    "\n",
    "        # Run OLS regression\n",
    "        model = sm.OLS(y, X).fit()\n",
    "\n",
    "        # Extract alpha (intercept) and factor loadings\n",
    "        alpha = model.params['const']\n",
    "        beta_mkt = model.params['Mkt-RF']\n",
    "        beta_smb = model.params['SMB']\n",
    "        beta_hml = model.params['HML']\n",
    "        beta_rmw = model.params['RMW']\n",
    "        beta_cma = model.params['CMA']\n",
    "\n",
    "        print(f\"\\nFama-French 5-Factor Model Results for {portfolio.upper()}:\")\n",
    "        print(f\"Alpha: {alpha:.6f}\")\n",
    "        print(f\"Beta (Market): {beta_mkt:.6f}\")\n",
    "        print(f\"Beta (SMB): {beta_smb:.6f}\")\n",
    "        print(f\"Beta (HML): {beta_hml:.6f}\")\n",
    "        print(f\"Beta (RMW): {beta_rmw:.6f}\")\n",
    "        print(f\"Beta (CMA): {beta_cma:.6f}\")\n",
    "        print(f\"R-squared: {model.rsquared:.6f}\")\n",
    "        print(f\"Adjusted R-squared: {model.rsquared_adj:.6f}\")\n",
    "\n",
    "        # Calculate and print t-statistics and p-values\n",
    "        print(\"\\nt-statistics:\")\n",
    "        print(model.tvalues)\n",
    "        print(\"\\np-values:\")\n",
    "        print(model.pvalues)\n",
    "\n",
    "    except Exception as e:\n",
    "        print(f\"Error processing data for {portfolio}: {str(e)}\")\n",
    "        print(f\"Error type: {type(e).__name__}\")\n",
    "        print(f\"Error details: {e.args}\")\n",
    "        print(\"DataFrame columns:\")\n",
    "        print(df.columns.tolist())\n",
    "\n",
    "# Run Fama-French Alpha calculation for each portfolio\n",
    "portfolios = ['vt', 'veu', 'ivv', 'ijh', 'ijr', 'esg_low', 'esg_high']\n",
    "for portfolio in portfolios:\n",
    "    calculate_fama_french_alpha(data, portfolio)"
   ]
  },
  {
   "cell_type": "markdown",
   "metadata": {
    "id": "4eGNPyZ5vHed"
   },
   "source": [
    "##### 3.2 Robustness Check"
   ]
  },
  {
   "cell_type": "markdown",
   "metadata": {
    "id": "-WSVEnIqvHee"
   },
   "source": [
    "Time-Varying Factor Exposures"
   ]
  },
  {
   "cell_type": "code",
   "execution_count": null,
   "metadata": {
    "id": "7BvjWVEFvHef"
   },
   "outputs": [],
   "source": []
  }
 ],
 "metadata": {
  "colab": {
   "provenance": []
  },
  "kernelspec": {
   "display_name": "base",
   "language": "python",
   "name": "python3"
  },
  "language_info": {
   "codemirror_mode": {
    "name": "ipython",
    "version": 3
   },
   "file_extension": ".py",
   "mimetype": "text/x-python",
   "name": "python",
   "nbconvert_exporter": "python",
   "pygments_lexer": "ipython3",
   "version": "3.11.5"
  }
 },
 "nbformat": 4,
 "nbformat_minor": 0
}
