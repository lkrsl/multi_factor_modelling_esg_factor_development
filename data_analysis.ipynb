{
 "cells": [
  {
   "cell_type": "markdown",
   "metadata": {},
   "source": [
    "# ESG-Driven Portfolio Optimization: Personalized Factor Investing Data Analysis"
   ]
  },
  {
   "cell_type": "code",
   "execution_count": 1,
   "metadata": {},
   "outputs": [
    {
     "name": "stderr",
     "output_type": "stream",
     "text": [
      "c:\\Users\\lkreisel\\AppData\\Local\\Programs\\Python\\Python311\\Lib\\site-packages\\tqdm\\auto.py:21: TqdmWarning: IProgress not found. Please update jupyter and ipywidgets. See https://ipywidgets.readthedocs.io/en/stable/user_install.html\n",
      "  from .autonotebook import tqdm as notebook_tqdm\n"
     ]
    }
   ],
   "source": [
    "import pandas as pd\n",
    "import requests\n",
    "import json\n",
    "from PIL import Image\n",
    "import transformers\n",
    "import os\n",
    "import datetime\n",
    "from lxml import etree\n",
    "import sqlite3"
   ]
  },
  {
   "cell_type": "markdown",
   "metadata": {},
   "source": [
    "### I Data import by webscraping"
   ]
  },
  {
   "cell_type": "markdown",
   "metadata": {},
   "source": [
    "##### 1) Tickers"
   ]
  },
  {
   "cell_type": "code",
   "execution_count": 2,
   "metadata": {},
   "outputs": [
    {
     "name": "stdout",
     "output_type": "stream",
     "text": [
      "Data for 2024-10-24 already exists. Skipping insertion.\n"
     ]
    }
   ],
   "source": [
    "# Define URLs for different categories\n",
    "URLs = {\n",
    "    'MA': \"https://finance.yahoo.com/markets/stocks/most-active/\",\n",
    "    'TN': \"https://finance.yahoo.com/markets/stocks/trending/\",\n",
    "    'GA': \"https://finance.yahoo.com/markets/stocks/gainers/\",\n",
    "    'TL': \"https://finance.yahoo.com/markets/stocks/losers/\"\n",
    "}\n",
    "\n",
    "def fetch_and_parse(url):\n",
    "    page = requests.get(url).content\n",
    "    tree = etree.HTML(page)\n",
    "    nodes = tree.xpath(\"//*[contains(concat(' ', @class, ' '), concat(' ', 'yf-138ga19', ' '))]\")\n",
    "    texts = [node.text for node in nodes]\n",
    "    cleaned = [text.strip() for text in texts if text and text.strip()]\n",
    "    tickers = [cleaned[i] for i in range(0, len(cleaned), 2)]\n",
    "    return tickers\n",
    "\n",
    "def data_exists_for_today(conn, date):\n",
    "    cursor = conn.cursor()\n",
    "    cursor.execute(\"SELECT COUNT(*) FROM stock_categories WHERE date = ?\", (date,))\n",
    "    count = cursor.fetchone()[0]\n",
    "    return count > 0\n",
    "\n",
    "def main():\n",
    "    current_date = datetime.date.today().isoformat()\n",
    "    db_path = os.path.join(os.getcwd(), 'stock_data.db')\n",
    "\n",
    "    # Connect to the SQLite database\n",
    "    conn = sqlite3.connect(db_path)\n",
    "\n",
    "    # Check if data for today already exists\n",
    "    if data_exists_for_today(conn, current_date):\n",
    "        print(f\"Data for {current_date} already exists. Skipping insertion.\")\n",
    "        conn.close()\n",
    "        return\n",
    "\n",
    "    # Fetch and parse data for each category\n",
    "    data = {category: fetch_and_parse(url) for category, url in URLs.items()}\n",
    "\n",
    "    # Create a set of all unique tickers\n",
    "    all_tickers = set()\n",
    "    for tickers in data.values():\n",
    "        all_tickers.update(tickers)\n",
    "\n",
    "    # Create a DataFrame with all tickers and categories\n",
    "    df = pd.DataFrame(index=sorted(all_tickers), columns=URLs.keys())\n",
    "\n",
    "    # Fill the DataFrame\n",
    "    for category, tickers in data.items():\n",
    "        df[category] = df.index.isin(tickers).astype(int)\n",
    "\n",
    "    # Reset index to make 'ticker' a column\n",
    "    df = df.reset_index().rename(columns={'index': 'ticker'})\n",
    "\n",
    "    # Display the first few rows of the DataFrame\n",
    "    print(df.head())\n",
    "\n",
    "    # Save the DataFrame to a CSV file\n",
    "    csv_path = os.path.join(os.getcwd(), 'stock_categories.csv')\n",
    "    df.to_csv(csv_path, index=False)\n",
    "    print(f\"Data saved to {csv_path}\")\n",
    "\n",
    "    # Prepare data for insertion\n",
    "    data_to_insert = []\n",
    "    current_timestamp = datetime.datetime.now().isoformat()\n",
    "    for category, tickers in data.items():\n",
    "        for ticker in tickers:\n",
    "            data_to_insert.append((current_date, ticker, category, current_timestamp))\n",
    "\n",
    "    # Create table if it doesn't exist\n",
    "    cursor = conn.cursor()\n",
    "    cursor.execute('''\n",
    "    CREATE TABLE IF NOT EXISTS stock_categories\n",
    "    (date TEXT, ticker TEXT, category TEXT, timestamp TEXT)\n",
    "    ''')\n",
    "\n",
    "    # Insert data into database\n",
    "    query = '''\n",
    "    INSERT INTO stock_categories (date, ticker, category, timestamp)\n",
    "    VALUES (?, ?, ?, ?)\n",
    "    '''\n",
    "    cursor.executemany(query, data_to_insert)\n",
    "    conn.commit()\n",
    "\n",
    "    # Close the cursor and connection\n",
    "    cursor.close()\n",
    "    conn.close()\n",
    "\n",
    "    print(f\"Data inserted successfully into {db_path}\")\n",
    "\n",
    "    # Check content of database\n",
    "    conn = sqlite3.connect(db_path)\n",
    "    cursor = conn.cursor()\n",
    "\n",
    "    # Execute the SQL query\n",
    "    query = \"\"\"\n",
    "    SELECT DISTINCT ticker\n",
    "    FROM stock_categories\n",
    "    WHERE date = ?\n",
    "      AND category = 'MA'\n",
    "    ORDER BY ticker;\n",
    "    \"\"\"\n",
    "    cursor.execute(query, (current_date,))\n",
    "\n",
    "    # Fetch and print the results\n",
    "    results = cursor.fetchall()\n",
    "    print(f\"\\nTickers in the 'MA' category for {current_date}:\")\n",
    "    for row in results:\n",
    "        print(row[0])\n",
    "\n",
    "    # Close the cursor and connection\n",
    "    cursor.close()\n",
    "    conn.close()\n",
    "\n",
    "if __name__ == \"__main__\":\n",
    "    main()"
   ]
  },
  {
   "cell_type": "code",
   "execution_count": 3,
   "metadata": {},
   "outputs": [
    {
     "name": "stdout",
     "output_type": "stream",
     "text": [
      "\n",
      "Tickers in the 'MA' category for 2024-10-24:\n",
      "AAL\n",
      "AAPL\n",
      "AGNC\n",
      "ALTM\n",
      "AMZN\n",
      "BAC\n",
      "BBD\n",
      "CLSK\n",
      "DJT\n",
      "F\n",
      "GRAB\n",
      "INTC\n",
      "IONQ\n",
      "KO\n",
      "LCID\n",
      "MARA\n",
      "NIO\n",
      "NVDA\n",
      "OKLO\n",
      "PLTR\n",
      "PTON\n",
      "SNAP\n",
      "SOFI\n",
      "T\n",
      "TSLA\n"
     ]
    }
   ],
   "source": [
    "# Check content of database\n",
    "# Connect to the SQLite database\n",
    "db_path = os.path.join(os.getcwd(), 'stock_data.db')\n",
    "conn = sqlite3.connect(db_path)\n",
    "cursor = conn.cursor()\n",
    "\n",
    "# Get today's date in ISO format\n",
    "today = datetime.date.today().isoformat()\n",
    "\n",
    "# Execute the SQL query\n",
    "query = \"\"\"\n",
    "SELECT DISTINCT ticker\n",
    "FROM stock_categories\n",
    "WHERE date = ?\n",
    "  AND category = 'MA'\n",
    "ORDER BY ticker;\n",
    "\"\"\"\n",
    "cursor.execute(query, (today,))\n",
    "\n",
    "# Fetch and print the results\n",
    "results = cursor.fetchall()\n",
    "print(f\"\\nTickers in the 'MA' category for {today}:\")\n",
    "for row in results:\n",
    "    print(row[0])\n",
    "\n",
    "# Close the cursor and connection\n",
    "cursor.close()\n",
    "conn.close()"
   ]
  },
  {
   "cell_type": "markdown",
   "metadata": {},
   "source": [
    "##### 2) Market capitalization "
   ]
  },
  {
   "cell_type": "code",
   "execution_count": null,
   "metadata": {},
   "outputs": [],
   "source": []
  },
  {
   "cell_type": "markdown",
   "metadata": {},
   "source": [
    "##### 3) Sustainability "
   ]
  },
  {
   "cell_type": "code",
   "execution_count": null,
   "metadata": {},
   "outputs": [],
   "source": [
    "URL = 'https://finance.yahoo.com/quote/' + list_item + '/sustainability/'\n",
    "\n",
    "# Make the GET request\n",
    "response = requests.get(URL)\n",
    "\n",
    "# Parse the JSON response\n",
    "json_data = response.json()\n",
    "\n",
    "# Pretty print the JSON response\n",
    "pretty_json = json.dumps(json_data, indent=4)\n",
    "print(pretty_json)\n",
    "\n",
    "# Create and print df\n",
    "df = pd.json_normalize(json_data)"
   ]
  }
 ],
 "metadata": {
  "kernelspec": {
   "display_name": "Python 3",
   "language": "python",
   "name": "python3"
  },
  "language_info": {
   "codemirror_mode": {
    "name": "ipython",
    "version": 3
   },
   "file_extension": ".py",
   "mimetype": "text/x-python",
   "name": "python",
   "nbconvert_exporter": "python",
   "pygments_lexer": "ipython3",
   "version": "3.11.9"
  }
 },
 "nbformat": 4,
 "nbformat_minor": 2
}
